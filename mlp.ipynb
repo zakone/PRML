{
 "cells": [
  {
   "cell_type": "markdown",
   "metadata": {},
   "source": [
    "# 多層パーセプトロンPython＆Chainerによる実装"
   ]
  },
  {
   "cell_type": "markdown",
   "metadata": {},
   "source": [
    "## 目次"
   ]
  },
  {
   "cell_type": "markdown",
   "metadata": {},
   "source": [
    "### 多層パーセプトロンモデル\n",
    "### 多層パーセプトロン数式\n",
    "### 多層パーセプトロン重み更新\n",
    "### Pythonの実装\n",
    "### Chainerの説明\n",
    "### Chainerの実装"
   ]
  },
  {
   "cell_type": "markdown",
   "metadata": {
    "collapsed": true
   },
   "source": [
    "## 多層パーセプトロンの数式"
   ]
  },
  {
   "cell_type": "markdown",
   "metadata": {},
   "source": [
    "![Image of model](http://cdn-ak.f.st-hatena.com/images/fotolife/a/aidiary/20140122/20140122215625.png)"
   ]
  },
  {
   "cell_type": "markdown",
   "metadata": {},
   "source": [
    "$$y_k(\\bf{x}, \\bf{w}) = f \\Biggl( \\sum_{j=1}^M w_{kj}^{(2)} h \\biggl( \\sum_{i=1}^D w_{ji}^{(1)} x_i + w_{j0}^{(1)} \\biggr) + w_{k0}^{(2)} \\Biggr)$$"
   ]
  },
  {
   "cell_type": "markdown",
   "metadata": {},
   "source": [
    "##### xo = 1とすると："
   ]
  },
  {
   "cell_type": "markdown",
   "metadata": {},
   "source": [
    "$$y_k(\\bf{x}, \\bf{w}) = f \\Biggl( \\sum_{j=0}^M w_{kj}^{(2)} h \\biggl( \\sum_{i=0}^D w_{ji}^{(1)} x_i \\biggr) \\Biggr)$$"
   ]
  },
  {
   "cell_type": "markdown",
   "metadata": {},
   "source": [
    "##### 出力ユニット活性化関数はf()、隠れユニット活性化関数はh()で表しています。"
   ]
  },
  {
   "cell_type": "markdown",
   "metadata": {},
   "source": [
    "## 重みの学習"
   ]
  },
  {
   "cell_type": "markdown",
   "metadata": {},
   "source": [
    "### 全学習データの二乗誤差の和"
   ]
  },
  {
   "cell_type": "markdown",
   "metadata": {},
   "source": [
    "![image of model2](http://hokuts.com/wp-content/uploads/2016/05/error_func.png)\n",
    "$$E_n = \\frac{1}{2} \\sum_{k=1}^K (y_k - t_k)^2$$"
   ]
  },
  {
   "cell_type": "markdown",
   "metadata": {},
   "source": [
    "### 出力層の重み更新"
   ]
  },
  {
   "cell_type": "markdown",
   "metadata": {},
   "source": [
    "Eを最小化するため、各wをどう求めるのは考えると、直接に二回微分で行うと、wがなくなるので使えない？\n",
    "従って、一回微分で求める方法→最急降下法/確率的勾配降下法にした。"
   ]
  },
  {
   "cell_type": "markdown",
   "metadata": {},
   "source": [
    "![image of model3](http://hokuts.com/wp-content/uploads/2015/11/gradient_dec.png)"
   ]
  },
  {
   "cell_type": "markdown",
   "metadata": {},
   "source": [
    "##### ある重みwに対して、Eを最小化するため、wの微分値、つまり傾きが正の時はwが負の方向に動き、負の時はwが正の方向に動くようになった。また、傾きの絶対値が大きいときは大きく変化し、小さいときは小さく変化します。ただ、これだと更新量が大きすぎてうまく収束しないので、小さな正の定数を決めて、微分値に掛けることで更新量を調整する。"
   ]
  },
  {
   "cell_type": "markdown",
   "metadata": {},
   "source": [
    "![image of model4](http://hokuts.com/wp-content/uploads/2016/05/w_l_i_j.png)"
   ]
  },
  {
   "cell_type": "markdown",
   "metadata": {},
   "source": [
    "##### 出力層i番目のユニットのj番目の重み、\n",
    "$$w_{i,j}^{(L)}$$"
   ]
  },
  {
   "cell_type": "markdown",
   "metadata": {},
   "source": [
    "##### wの更新式"
   ]
  },
  {
   "cell_type": "markdown",
   "metadata": {},
   "source": [
    "$$\n",
    "w_{ij}^{(L)} = w_{ij}^{(L)} - \\eta\\frac{\\partial E_n}{\\partial w_{ij}^{(L)}}\n",
    "$$"
   ]
  },
  {
   "cell_type": "markdown",
   "metadata": {},
   "source": [
    "##### E=f(y); y=f(u); u=f(w)、偏微分を求める時それぞれ偏微分するので以下の式に変更"
   ]
  },
  {
   "cell_type": "markdown",
   "metadata": {},
   "source": [
    "$$\n",
    "\\frac{\\partial E_n}{\\partial w_{ij}^{(L)}} = \\frac{\\partial E_n}{\\partial y_{i}^{(L)}}\\frac{\\partial y_{i}^{(L)}}{\\partial u_{i}^{(L)}}\\frac{\\partial u_{i}^{(L)}}{\\partial w_{ij}^{(L)}}\n",
    "$$"
   ]
  },
  {
   "cell_type": "markdown",
   "metadata": {},
   "source": [
    "##### さらに計算すると、以下の式になった(過程は省略)→http://hokuts.com/2016/05/29/bp1/ に参考してください。"
   ]
  },
  {
   "cell_type": "markdown",
   "metadata": {},
   "source": [
    "$$\n",
    "w_{ij}^{(L)} = w_{ij}^{(L)} - \\eta((y_{i}^{(L)} - t_{i}){f'(u_{i}^{(L)})}{y_{j}^{(L-1)}})\n",
    "$$"
   ]
  },
  {
   "cell_type": "markdown",
   "metadata": {},
   "source": [
    "##### これは、出力層の重み更新式で、似たような計算で、隠れ層の重み更新式は以下のように:"
   ]
  },
  {
   "cell_type": "markdown",
   "metadata": {},
   "source": [
    "![image of model5](http://hokuts.com/wp-content/uploads/2016/05/w_l-1_i_j.png)"
   ]
  },
  {
   "cell_type": "markdown",
   "metadata": {},
   "source": [
    "###### 計算後の式："
   ]
  },
  {
   "cell_type": "markdown",
   "metadata": {},
   "source": [
    "$$\n",
    "w_{ij}^{(L-1)} = w_{ij}^{(L-1)} - \\eta(\\sum_{k} \\frac{\\partial E_n}{\\partial y_{k}^{(L)}}\\frac{\\partial y_{k}^{(L)}}{\\partial u_{k}^{(L)}}w_{k}^{(L)}{f'(u_{i}^{(L-1)})}{y_{j}^{(L-2)}})\n",
    "$$"
   ]
  },
  {
   "cell_type": "markdown",
   "metadata": {},
   "source": [
    "##### kは出力層のユニット"
   ]
  },
  {
   "cell_type": "markdown",
   "metadata": {},
   "source": [
    "![title](http://hokuts.com/wp-content/uploads/2016/05/o_l-1_i_error1.png)"
   ]
  },
  {
   "cell_type": "markdown",
   "metadata": {},
   "source": [
    "##### 第L層の重み更新を先に計算すると、その計算結果の一部を第(L-1)層の重み更新の際に利用できた。プログラム上では一時変数に保持しておけば使える。それを使って第(L-1)層の重み更新の計算をし、さらにその計算結果の一部を第(L-2)層の重み更新に使い…ということができると、第1層の重みまですべてを更新することができる。"
   ]
  },
  {
   "cell_type": "markdown",
   "metadata": {},
   "source": [
    "## Pythonによる実装"
   ]
  },
  {
   "cell_type": "markdown",
   "metadata": {},
   "source": [
    "##### コード部分"
   ]
  },
  {
   "cell_type": "markdown",
   "metadata": {},
   "source": [
    "##### 必要なライブラリを導入"
   ]
  },
  {
   "cell_type": "markdown",
   "metadata": {},
   "source": [
    "<pre>#coding:utf-8\n",
    "%matplotlib notebook\n",
    "import numpy as np\n",
    "from matplotlib import animation\n",
    "import matplotlib.pyplot as plt\n",
    "</pre>"
   ]
  },
  {
   "cell_type": "markdown",
   "metadata": {},
   "source": [
    "##### 定数の定義"
   ]
  },
  {
   "cell_type": "markdown",
   "metadata": {},
   "source": [
    "<pre>\n",
    "# 訓練データ数\n",
    "N = 50\n",
    "# 学習率\n",
    "ETA = 0.1　　#<b>どうの程度で重みwを調整するパラメータ</b>\n",
    "# ループ回数\n",
    "NUM_LOOP = 500  #<b>wを徐々に更新するので、一定の回数で回さないとうまく収束できない</b>\n",
    "# 入力層のユニット数（バイアス含む）\n",
    "NUM_INPUT = 2\n",
    "# 隠れ層のユニット数（バイアス含む）\n",
    "NUM_HIDDEN = 4\n",
    "# 出力層のユニット数\n",
    "NUM_OUTPUT = 1\n",
    "</pre>"
   ]
  },
  {
   "cell_type": "markdown",
   "metadata": {},
   "source": [
    "##### ユニットの出力関数"
   ]
  },
  {
   "cell_type": "markdown",
   "metadata": {},
   "source": [
    "<pre>\n",
    "def output(x, w1, w2):\n",
    "    \n",
    "    # <b>配列に変換して先頭にバイアスの1を挿入</b>\n",
    "    x = np.insert(x, 0, 1)\n",
    "    z = np.zeros(NUM_HIDDEN)\n",
    "    y = np.zeros(NUM_OUTPUT)\n",
    "    # 順伝播で出力を計算\n",
    "    for j in range(NUM_HIDDEN):\n",
    "        a = np.zeros(NUM_HIDDEN)\n",
    "        a[j] = np.dot(w1[j, :], x)\n",
    "        z[j] = np.tanh(a[j])     #<b>中間層の活性化関数はtan()</b>\n",
    "    for k in range(NUM_OUTPUT):\n",
    "        y[k] = np.dot(w2[k, :], z) #<b>出力層の活性化関数はそのまま線形関数の形</b>\n",
    "    return y, z\n",
    "</pre>"
   ]
  },
  {
   "cell_type": "markdown",
   "metadata": {},
   "source": [
    "##### 訓練データ, 重み作成"
   ]
  },
  {
   "cell_type": "markdown",
   "metadata": {},
   "source": [
    "<pre>\n",
    "xlist = np.linspace(-5, 5, N).reshape(N, 1)\n",
    "#tlist = xlist * xlist    # x^2\n",
    "tlist = np.sin(xlist)     # sin(x) #<b>今回はsin()にした</b>\n",
    "#tlist = np.abs(xlist)    # |x|\n",
    "\n",
    "# <b>重みをランダムに初期化</b>\n",
    "w1 = np.random.random((NUM_HIDDEN, NUM_INPUT))\n",
    "w2 = np.random.random((NUM_OUTPUT, NUM_HIDDEN))\n",
    "</pre>"
   ]
  },
  {
   "cell_type": "markdown",
   "metadata": {},
   "source": [
    "##### 学習ループ"
   ]
  },
  {
   "cell_type": "markdown",
   "metadata": {},
   "source": [
    "<pre>\n",
    "ims = [] #グラッフ作成用\n",
    "for loop in range(NUM_LOOP):\n",
    "    for n in range(N):\n",
    "        # 隠れ層と出力層の出力配列を確保\n",
    "        z = np.zeros(NUM_HIDDEN)\n",
    "        y = np.zeros(NUM_OUTPUT)\n",
    "\n",
    "        # 誤差（delta）の配列を確保\n",
    "        d1 = np.zeros(NUM_HIDDEN)\n",
    "        d2 = np.zeros(NUM_OUTPUT)\n",
    "\n",
    "        # 訓練データにバイアスの1を先頭に挿入\n",
    "        x = np.array([xlist[n]])\n",
    "        x = np.insert(x, 0, 1)\n",
    "\n",
    "        # (1) 順伝播により隠れ層の出力を計算\n",
    "        for j in range(NUM_HIDDEN):\n",
    "            a = np.zeros(NUM_HIDDEN)\n",
    "            a[j] = np.dot(w1[j, :], x)\n",
    "            z[j] = np.tanh(a[j])\n",
    "\n",
    "        # (1) 順伝播により出力層の出力を計算\n",
    "        for k in range(NUM_OUTPUT):\n",
    "            y[k] = np.dot(w2[k, :], z)\n",
    "\n",
    "        #  <b>出力層の誤差を評価</b>\n",
    "        for k in range(NUM_OUTPUT):\n",
    "            d2[k] = y[k] - tlist[n, k] #n,kは行と列に対応\n",
    "\n",
    "　　　　　#　<b>出力層の重みを更新</b>\n",
    "        for k in range(NUM_OUTPUT):\n",
    "            for j in range(NUM_HIDDEN):\n",
    "                w2[k, j] -= ETA * d2[k] * z[j]\n",
    "</pre>\n",
    "\n",
    "$$\n",
    "w_{ij}^{(L)} = w_{ij}^{(L)} - \\eta((y_{i}^{(L)} - t_{i}){f'(u_{i}^{(L)})}{y_{j}^{(L-1)}})\n",
    "$$\n",
    "\n",
    "<pre>\n",
    "        #  <b>出力層の誤差を逆伝播させ、隠れ層の誤差を計算</b>\n",
    "        for j in range(NUM_HIDDEN):\n",
    "            temp = np.dot(w2[:, j], d2)\n",
    "            d1[j] = (1 - z[j] * z[j]) * temp\n",
    "\n",
    "        #  <b>隠れ層の重みを更新</b>\n",
    "        for j in range(NUM_HIDDEN):\n",
    "            for i in range(NUM_INPUT):\n",
    "                w1[j, i] -= ETA * d1[j] * x[i]\n",
    "</pre>\n",
    "\n",
    "$$\n",
    "w_{ij}^{(L-1)} = w_{ij}^{(L-1)} - \\eta(\\sum_{k} \\frac{\\partial E_n}{\\partial y_{k}^{(L)}}\\frac{\\partial y_{k}^{(L)}}{\\partial u_{k}^{(L)}}w_{k}^{(L)}{f'(u_{i}^{(L-1)})}{y_{j}^{(L-2)}})\n",
    "$$\n",
    "\n",
    "<pre>\n",
    "    # 訓練データの入力に対する予測値を出力\n",
    "    ylist = np.zeros((N, NUM_OUTPUT))\n",
    "    zlist = np.zeros((N, NUM_HIDDEN))\n",
    "    for n in range(N):\n",
    "        ylist[n], zlist[n] = output(xlist[n], w1, w2)\n",
    "\n",
    "    # 訓練データを青丸で表示\n",
    "    # plot()には縦ベクトルを渡してもOK\n",
    "    im = plt.plot(xlist, tlist, 'bo')\n",
    "\n",
    "    # 訓練データの各xに対するニューラルネットの出力を赤線で表示\n",
    "    im += plt.plot(xlist, ylist, 'r-')\n",
    "\n",
    "    # 各重みの出力を点線で表示\n",
    "    for i in range(NUM_HIDDEN):\n",
    "        im += plt.plot(xlist, zlist[:,i], 'k--')\n",
    "    \n",
    "    ims.append(im)\n",
    "</pre>"
   ]
  },
  {
   "cell_type": "markdown",
   "metadata": {},
   "source": [
    "##### 動画を表示"
   ]
  },
  {
   "cell_type": "markdown",
   "metadata": {},
   "source": [
    "<pre>\n",
    "fig = plt.figure()\n",
    "ani = animation.ArtistAnimation(fig, ims)\n",
    "plt.show()\n",
    "</pre>"
   ]
  },
  {
   "cell_type": "markdown",
   "metadata": {},
   "source": [
    "##### 実行する"
   ]
  },
  {
   "cell_type": "code",
   "execution_count": null,
   "metadata": {
    "collapsed": true
   },
   "outputs": [],
   "source": [
    "#coding:utf-8\n",
    "%matplotlib notebook\n",
    "import numpy as np\n",
    "from matplotlib import animation\n",
    "import matplotlib.pyplot as plt\n",
    "\n",
    "# 訓練データ数\n",
    "N = 50\n",
    "# 学習率\n",
    "ETA = 0.1\n",
    "# ループ回数\n",
    "NUM_LOOP = 500\n",
    "# 入力層のユニット数（バイアス含む）\n",
    "NUM_INPUT = 2\n",
    "# 隠れ層のユニット数（バイアス含む）\n",
    "NUM_HIDDEN = 4\n",
    "# 出力層のユニット数\n",
    "NUM_OUTPUT = 1\n",
    "\n",
    "def output(x, w1, w2):\n",
    "    \"\"\"xを入力したときのニューラルネットワークの出力を計算\n",
    "    隠れユニットの出力も一緒に返す\"\"\"\n",
    "    # 配列に変換して先頭にバイアスの1を挿入\n",
    "    x = np.insert(x, 0, 1)\n",
    "    z = np.zeros(NUM_HIDDEN)\n",
    "    y = np.zeros(NUM_OUTPUT)\n",
    "    # 順伝播で出力を計算\n",
    "    for j in range(NUM_HIDDEN):\n",
    "        a = np.zeros(NUM_HIDDEN)\n",
    "        a[j] = np.dot(w1[j, :], x)\n",
    "        z[j] = np.tanh(a[j])\n",
    "    for k in range(NUM_OUTPUT):\n",
    "        y[k] = np.dot(w2[k, :], z)\n",
    "    return y, z\n",
    "\n",
    "# 訓練データ作成\n",
    "xlist = np.linspace(-5, 5, N).reshape(N, 1)\n",
    "#tlist = xlist * xlist    # x^2\n",
    "tlist = np.sin(xlist)     # sin(x)\n",
    "#tlist = np.abs(xlist)    # |x|\n",
    "#tlist = heviside(xlist)  # H(x)\n",
    "\n",
    "# 重みをランダムに初期化\n",
    "w1 = np.random.random((NUM_HIDDEN, NUM_INPUT))\n",
    "w2 = np.random.random((NUM_OUTPUT, NUM_HIDDEN))\n",
    "\n",
    "#print \"学習前の二乗誤差:\", sum_of_squares_error(xlist, tlist, w1, w2)\n",
    "\n",
    "ims = []\n",
    "\n",
    "for loop in range(NUM_LOOP):\n",
    "    # 訓練データすべてを使って重みを訓練する\n",
    "    for n in range(N):\n",
    "        # 隠れ層と出力層の出力配列を確保\n",
    "        z = np.zeros(NUM_HIDDEN)\n",
    "        y = np.zeros(NUM_OUTPUT)\n",
    "\n",
    "        # 誤差（delta）の配列を確保\n",
    "        d1 = np.zeros(NUM_HIDDEN)\n",
    "        d2 = np.zeros(NUM_OUTPUT)\n",
    "\n",
    "        # 訓練データにバイアスの1を先頭に挿入\n",
    "        x = np.array([xlist[n]])\n",
    "        x = np.insert(x, 0, 1)\n",
    "\n",
    "        # (1) 順伝播により隠れ層の出力を計算\n",
    "        for j in range(NUM_HIDDEN):\n",
    "            # 入力層にはバイアスの1が先頭に入るので注意\n",
    "            a = np.zeros(NUM_HIDDEN)\n",
    "            a[j] = np.dot(w1[j, :], x)\n",
    "            z[j] = np.tanh(a[j])\n",
    "\n",
    "        # (1) 順伝播により出力層の出力を計算\n",
    "        for k in range(NUM_OUTPUT):\n",
    "            y[k] = np.dot(w2[k, :], z)\n",
    "\n",
    "        # (2) 出力層の誤差を評価\n",
    "        for k in range(NUM_OUTPUT):\n",
    "            d2[k] = y[k] - tlist[n, k]\n",
    "\n",
    "        # (3) 出力層の誤差を逆伝播させ、隠れ層の誤差を計算\n",
    "        for j in range(NUM_HIDDEN):\n",
    "            temp = np.dot(w2[:, j], d2)\n",
    "            d1[j] = (1 - z[j] * z[j]) * temp\n",
    "\n",
    "        # (4) + (5) 第1層の重みを更新\n",
    "        for j in range(NUM_HIDDEN):\n",
    "            for i in range(NUM_INPUT):\n",
    "                w1[j, i] -= ETA * d1[j] * x[i]\n",
    "            \n",
    "        # (4) + (5) 第2層の重みを更新\n",
    "        for k in range(NUM_OUTPUT):\n",
    "            for j in range(NUM_HIDDEN):\n",
    "                w2[k, j] -= ETA * d2[k] * z[j]\n",
    "\n",
    "    # 訓練データの入力に対する予測値を出力\n",
    "    ylist = np.zeros((N, NUM_OUTPUT))\n",
    "    zlist = np.zeros((N, NUM_HIDDEN))\n",
    "    for n in range(N):\n",
    "        ylist[n], zlist[n] = output(xlist[n], w1, w2)\n",
    "\n",
    "    # 訓練データを青丸で表示\n",
    "    # plot()には縦ベクトルを渡してもOK\n",
    "    im = plt.plot(xlist, tlist, 'bo')\n",
    "\n",
    "    # 訓練データの各xに対するニューラルネットの出力を赤線で表示\n",
    "    im += plt.plot(xlist, ylist, 'r-')\n",
    "\n",
    "    # 各重みの出力を点線で表示\n",
    "    for i in range(NUM_HIDDEN):\n",
    "        im += plt.plot(xlist, zlist[:,i], 'k--')\n",
    "    \n",
    "    ims.append(im)\n",
    "\n",
    "fig = plt.figure()\n",
    "ani = animation.ArtistAnimation(fig, ims)\n",
    "plt.show()"
   ]
  },
  {
   "cell_type": "markdown",
   "metadata": {
    "collapsed": true
   },
   "source": [
    "## Chainerによる実装"
   ]
  },
  {
   "cell_type": "markdown",
   "metadata": {},
   "source": [
    "### 必要なものをimport"
   ]
  },
  {
   "cell_type": "markdown",
   "metadata": {
    "collapsed": false
   },
   "source": [
    "<pre>\n",
    "import chainer\n",
    "import chainer.functions as F\n",
    "import chainer.links as L\n",
    "import numpy as np\n",
    "from chainer import Variable\n",
    "from chainer import optimizers\n",
    "from matplotlib import pyplot as plt\n",
    "%matplotlib inline\n",
    "</pre>"
   ]
  },
  {
   "cell_type": "markdown",
   "metadata": {},
   "source": [
    "### データを準備"
   ]
  },
  {
   "cell_type": "markdown",
   "metadata": {
    "collapsed": false
   },
   "source": [
    "<pre>\n",
    "N = 50\n",
    "NUM_LOOP = 1000\n",
    "x_data = np.linspace(-1, 1, N, dtype=np.float32).reshape(N,1)\n",
    "t_data = x_data * x_data    # x^2\n",
    "#    tlist = np.sin(xlist)    # sin(x)\n",
    "#    tlist = np.abs(xlist)    # |x|\n",
    "#    tlist = heviside(xlist)  # H(x)\n",
    "</pre>"
   ]
  },
  {
   "cell_type": "markdown",
   "metadata": {},
   "source": [
    "### モデルを構築"
   ]
  },
  {
   "cell_type": "markdown",
   "metadata": {
    "collapsed": false,
    "scrolled": true
   },
   "source": [
    "<pre>\n",
    "class MLP(chainer.Chain):\n",
    "    def __init__(self, n_in, n_units, n_out):\n",
    "        super(MLP, self).__init__(\n",
    "            l1=L.Linear(n_in,n_units),\n",
    "            l2=L.Linear(n_units,n_out)\n",
    "        )\n",
    "        \n",
    "    def __call__(self, x):\n",
    "        h1 = F.tanh(self.l1(x))\n",
    "        h2 = self.l2(h1)\n",
    "        #h1 = F.leaky_relu(self.l1(x))\n",
    "        #h2 = F.leaky_relu(self.l2(h1))\n",
    "        return h2\n",
    "\n",
    "class SUMError(chainer.Chain):\n",
    "    def __init__(self, predictor):\n",
    "        l1=L.Linear(n_in,n_units),\n",
    "            l2=L.Linear(n_units,n_out)\n",
    "    \n",
    "    def __call__(self, x, t):\n",
    "        y = self.predictor(x)\n",
    "        self.loss = F.mean_squared_error(y, t) //Mean squared error (a.k.a. Euclidean loss) function\n",
    "        return self.loss\n",
    "        \n",
    "</pre>"
   ]
  },
  {
   "cell_type": "markdown",
   "metadata": {},
   "source": [
    "### Optimizerを設定"
   ]
  },
  {
   "cell_type": "markdown",
   "metadata": {
    "collapsed": false
   },
   "source": [
    "<pre>\n",
    "model = SUMError(MLP(1, 4, 1))\n",
    "optimizer = optimizers.SGD()\n",
    "optimizer.setup(model)\n",
    "</pre>\n",
    "\n",
    "他のパラメータとその意味は、[ここ](http://ttlg.hateblo.jp/entry/2016/02/11/181322) で参考できる"
   ]
  },
  {
   "cell_type": "markdown",
   "metadata": {},
   "source": [
    "### Trainを行う"
   ]
  },
  {
   "cell_type": "markdown",
   "metadata": {
    "collapsed": true
   },
   "source": [
    "<pre>\n",
    "losses = []\n",
    "for loop in range(NUM_LOOP):\n",
    "    x = Variable(x_data)\n",
    "    t = Variable(t_data.astype(np.float32))\n",
    "    model.zerograds()\n",
    "    loss = model(x, t)\n",
    "    loss.backward()\n",
    "    optimizer.update()\n",
    "    losses.append(loss.data)\n",
    "</pre>"
   ]
  },
  {
   "cell_type": "markdown",
   "metadata": {},
   "source": [
    "### 実行する"
   ]
  },
  {
   "cell_type": "code",
   "execution_count": 1,
   "metadata": {
    "collapsed": false
   },
   "outputs": [
    {
     "data": {
      "image/png": "[encoded data removed]",
      "text/plain": [
       "<matplotlib.figure.Figure at 0x105bbdd90>"
      ]
     },
     "metadata": {},
     "output_type": "display_data"
    }
   ],
   "source": [
    "import chainer\n",
    "import chainer.functions as F\n",
    "import chainer.links as L\n",
    "import numpy as np\n",
    "from chainer import Variable\n",
    "from chainer import optimizers\n",
    "from matplotlib import pyplot as plt\n",
    "%matplotlib inline\n",
    "\n",
    "N = 50\n",
    "NUM_LOOP = 5000\n",
    "x_data = np.linspace(-1, 1, N, dtype=np.float32).reshape(N,1)\n",
    "t_data = x_data * x_data        # x^2\n",
    "#    t_data = np.sin(x_data)    # sin(x)\n",
    "#    t_data = np.abs(x_data)    # |x|\n",
    "\n",
    "class MLP(chainer.Chain):\n",
    "    def __init__(self, n_in, n_units, n_out):\n",
    "        super(MLP, self).__init__(\n",
    "            l1=L.Linear(n_in,n_units),\n",
    "            l2=L.Linear(n_units,n_out)\n",
    "        )\n",
    "        \n",
    "    def __call__(self, x):\n",
    "        h1 = F.tanh(self.l1(x))\n",
    "        h2 = self.l2(h1)\n",
    "        #h1 = F.leaky_relu(self.l1(x))\n",
    "        #h2 = F.leaky_relu(self.l2(h1))\n",
    "        return h2\n",
    "\n",
    "class SUMError(chainer.Chain):\n",
    "    def __init__(self, predictor):\n",
    "        super(SUMError, self).__init__(predictor=predictor)\n",
    "    \n",
    "    def __call__(self, x, t):\n",
    "        y = self.predictor(x)\n",
    "        self.loss = F.mean_squared_error(y, t)\n",
    "        return self.loss\n",
    "    \n",
    "model = SUMError(MLP(1, 4, 1))\n",
    "optimizer = optimizers.SGD()\n",
    "optimizer.setup(model)\n",
    "losses = []\n",
    "for loop in range(NUM_LOOP):\n",
    "    x = Variable(x_data)\n",
    "    t = Variable(t_data.astype(np.float32))\n",
    "    model.zerograds()\n",
    "    loss = model(x, t)\n",
    "    loss.backward()\n",
    "    optimizer.update()\n",
    "    losses.append(loss.data)\n",
    "plt.plot(losses)\n",
    "plt.yscale('log')"
   ]
  }
 ],
 "metadata": {
  "kernelspec": {
   "display_name": "Python 2",
   "language": "python",
   "name": "python2"
  },
  "language_info": {
   "codemirror_mode": {
    "name": "ipython",
    "version": 2
   },
   "file_extension": ".py",
   "mimetype": "text/x-python",
   "name": "python",
   "nbconvert_exporter": "python",
   "pygments_lexer": "ipython2",
   "version": "2.7.12"
  }
 },
 "nbformat": 4,
 "nbformat_minor": 0
}
